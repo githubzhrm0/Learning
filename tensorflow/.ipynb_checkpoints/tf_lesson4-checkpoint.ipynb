{
 "cells": [
  {
   "cell_type": "markdown",
   "metadata": {},
   "source": [
    "quadratic cost:\n",
    "$$C=\\frac{1}{2n}\\sum{(y-\\sigma(Wx+b))^2}$$\n",
    "$$\\frac{\\partial{C}}{\\partial w} = (a-y)\\sigma'(z)x$$\n",
    "$$\\frac{\\partial{C}}{\\partial b} = (a-y)\\sigma'(z)$$\n"
   ]
  },
  {
   "cell_type": "code",
   "execution_count": null,
   "metadata": {
    "collapsed": true
   },
   "outputs": [],
   "source": []
  }
 ],
 "metadata": {
  "kernelspec": {
   "display_name": "Python 3",
   "language": "python",
   "name": "python3"
  },
  "language_info": {
   "codemirror_mode": {
    "name": "ipython",
    "version": 3
   },
   "file_extension": ".py",
   "mimetype": "text/x-python",
   "name": "python",
   "nbconvert_exporter": "python",
   "pygments_lexer": "ipython3",
   "version": "3.6.1"
  }
 },
 "nbformat": 4,
 "nbformat_minor": 2
}
