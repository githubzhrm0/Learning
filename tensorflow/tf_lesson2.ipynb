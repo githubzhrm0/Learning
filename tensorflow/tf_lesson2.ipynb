{
 "cells": [
  {
   "cell_type": "code",
   "execution_count": 1,
   "metadata": {},
   "outputs": [
    {
     "name": "stderr",
     "output_type": "stream",
     "text": [
      "C:\\Users\\jeremy.zheren\\AppData\\Roaming\\Python\\Python36\\site-packages\\h5py\\__init__.py:36: FutureWarning: Conversion of the second argument of issubdtype from `float` to `np.floating` is deprecated. In future, it will be treated as `np.float64 == np.dtype(float).type`.\n",
      "  from ._conv import register_converters as _register_converters\n"
     ]
    }
   ],
   "source": [
    "import tensorflow as tf"
   ]
  },
  {
   "cell_type": "code",
   "execution_count": 2,
   "metadata": {
    "collapsed": true
   },
   "outputs": [],
   "source": [
    "m1 = tf.constant([[3,3]])\n",
    "m2 = tf.constant([[2],[3]])"
   ]
  },
  {
   "cell_type": "code",
   "execution_count": 4,
   "metadata": {
    "collapsed": true
   },
   "outputs": [],
   "source": [
    "product = tf.matmul(m1, m2)"
   ]
  },
  {
   "cell_type": "code",
   "execution_count": 7,
   "metadata": {},
   "outputs": [
    {
     "name": "stdout",
     "output_type": "stream",
     "text": [
      "Tensor(\"MatMul:0\", shape=(1, 1), dtype=int32)\n"
     ]
    }
   ],
   "source": [
    "print(product)"
   ]
  },
  {
   "cell_type": "code",
   "execution_count": 11,
   "metadata": {
    "collapsed": true
   },
   "outputs": [],
   "source": [
    "with tf.Session() as sess:\n",
    "    result = sess.run(product)"
   ]
  },
  {
   "cell_type": "code",
   "execution_count": 15,
   "metadata": {},
   "outputs": [
    {
     "name": "stdout",
     "output_type": "stream",
     "text": [
      "[-2 -1]\n",
      "[4 5]\n"
     ]
    }
   ],
   "source": [
    "# variable\n",
    "x = tf.Variable([1,2])\n",
    "a = tf.constant([3,3])\n",
    "\n",
    "sub = tf.subtract(x,a)\n",
    "add = tf.add(x,a)\n",
    "\n",
    "# variables must be initialized\n",
    "init = tf.global_variables_initializer()\n",
    "\n",
    "with tf.Session() as sess:\n",
    "    sess.run(init)\n",
    "    print(sess.run(sub))\n",
    "    print(sess.run(add))"
   ]
  },
  {
   "cell_type": "code",
   "execution_count": 2,
   "metadata": {},
   "outputs": [
    {
     "name": "stdout",
     "output_type": "stream",
     "text": [
      "0\n",
      "1\n",
      "2\n",
      "3\n",
      "4\n",
      "5\n"
     ]
    }
   ],
   "source": [
    "state = tf.Variable(0, name = 'counter')\n",
    "new_value = tf.add(state, 1)\n",
    "update = tf.assign(state, new_value)\n",
    "init = tf.global_variables_initializer()\n",
    "with tf.Session() as sess:\n",
    "    sess.run(init)\n",
    "    print(sess.run(state))\n",
    "    for _ in range(5):\n",
    "        sess.run(update)\n",
    "        print(sess.run(state))"
   ]
  },
  {
   "cell_type": "code",
   "execution_count": 18,
   "metadata": {},
   "outputs": [
    {
     "name": "stdout",
     "output_type": "stream",
     "text": [
      "[21.0, 7.0]\n"
     ]
    }
   ],
   "source": [
    "# fetch (run multiple ops)\n",
    "input1 = tf.constant(3.0)\n",
    "input2 = tf.constant(2.0)\n",
    "input3 = tf.constant(5.0)\n",
    "\n",
    "\n",
    "add = tf.add(input2, input3)\n",
    "mul = tf.multiply(input1, add)\n",
    "\n",
    "with tf.Session() as sess:\n",
    "    result = sess.run([mul, add])\n",
    "    print(result)\n",
    "\n"
   ]
  },
  {
   "cell_type": "code",
   "execution_count": 22,
   "metadata": {},
   "outputs": [
    {
     "name": "stdout",
     "output_type": "stream",
     "text": [
      "[14.]\n"
     ]
    }
   ],
   "source": [
    "# Feed\n",
    "input1 = tf.placeholder(tf.float32)\n",
    "input2 = tf.placeholder(tf.float32)\n",
    "output = tf.multiply(input1, input2)\n",
    "with tf.Session() as sess:\n",
    "    print(sess.run(output, feed_dict={input1:[7.0], input2:[2.0]}))"
   ]
  },
  {
   "cell_type": "code",
   "execution_count": 25,
   "metadata": {},
   "outputs": [
    {
     "name": "stdout",
     "output_type": "stream",
     "text": [
      "0 [0.055399116, 0.10070596]\n",
      "20 [0.10470803, 0.19739747]\n",
      "40 [0.102813415, 0.19844483]\n",
      "60 [0.1016812, 0.19907068]\n",
      "80 [0.10100465, 0.19944465]\n",
      "100 [0.10060036, 0.19966814]\n",
      "120 [0.10035876, 0.19980168]\n",
      "140 [0.10021439, 0.1998815]\n",
      "160 [0.10012812, 0.19992918]\n",
      "180 [0.10007656, 0.19995767]\n",
      "200 [0.100045756, 0.1999747]\n"
     ]
    }
   ],
   "source": [
    "import numpy as np\n",
    "x_data = np.random.rand(100)\n",
    "y_data = x_data * 0.1 + 0.2\n",
    "\n",
    "# create a linear model\n",
    "b = tf.Variable(0.)\n",
    "k = tf.Variable(0.)\n",
    "y = k * x_data + b\n",
    "\n",
    "# least square\n",
    "loss = tf.reduce_mean(tf.square(y_data - y))\n",
    "\n",
    "# def a gradient descent optimizer\n",
    "optimizer = tf.train.GradientDescentOptimizer(0.2)\n",
    "\n",
    "# minimize loss\n",
    "train = optimizer.minimize(loss)\n",
    "\n",
    "init = tf.global_variables_initializer()\n",
    "\n",
    "with tf.Session() as sess:\n",
    "    sess.run(init)\n",
    "    for step in range(201):\n",
    "        sess.run(train)\n",
    "        if step%20 == 0:\n",
    "            print(step, sess.run([k, b]))\n",
    "    \n",
    "    \n",
    "    \n",
    "\n",
    "\n"
   ]
  },
  {
   "cell_type": "code",
   "execution_count": 54,
   "metadata": {},
   "outputs": [
    {
     "data": {
      "image/png": "[encoded data removed]",
      "text/plain": [
       "<matplotlib.figure.Figure at 0x27044d31198>"
      ]
     },
     "metadata": {},
     "output_type": "display_data"
    }
   ],
   "source": [
    "import numpy as np\n",
    "import matplotlib.pyplot as plt\n",
    "\n",
    "plt.ion()\n",
    "n_observations = 100\n",
    "fig, ax = plt.subplots(1, 1)\n",
    "xs = np.linspace(-10, 3, n_observations)\n",
    "ys = xs * xs + 5 * xs + np.random.uniform(-1, 1, n_observations)\n",
    "ax.scatter(xs , ys)\n",
    "plt.draw()\n",
    "\n",
    "p_x = tf.placeholder(tf.float32)\n",
    "p_y = tf.placeholder(tf.float32)\n",
    "y_pred = tf.Variable(tf.random_normal([1]), name='bias')\n",
    "lst_w = []\n",
    "for pow_i in range(1, 3):\n",
    "    w = tf.Variable(tf.random_normal([1]), name = 'weight_{0}'.format(pow_i))\n",
    "    y_pred = tf.add(tf.multiply(tf.pow(p_x, pow_i), w), y_pred)\n",
    "    lst_w.append(w)\n",
    "    \n",
    "loss = tf.reduce_sum(tf.pow(y_pred - p_y, 2)) / (n_observations - 1)\n",
    "# loss = tf.add(loss, tf.multiply(1e-6, tf.global_norm(lst_w)))\n",
    "\n",
    "optimizer = tf.train.AdamOptimizer(0.2).minimize(loss)\n",
    "with tf.Session() as sess:\n",
    "    sess.run(tf.global_variables_initializer())\n",
    "    n_epoch = 100\n",
    "    for i in range(n_epoch):\n",
    "        sess.run(optimizer, feed_dict={p_x: xs, p_y: ys})\n",
    "#         for (_x, _y) in zip(xs, ys):\n",
    "#             sess.run(optimizer, feed_dict={p_x: _x, p_y: _y})\n",
    "        \n",
    "        training_loss = sess.run(loss, feed_dict={p_x: xs, p_y: ys})\n",
    "        if i % 5 == 0:\n",
    "                ax.plot(xs, y_pred.eval(\n",
    "                    feed_dict={p_x: xs}, session=sess),\n",
    "                        'k', alpha=i/n_epoch)\n",
    "                plt.draw()\n",
    "\n"
   ]
  },
  {
   "cell_type": "code",
   "execution_count": 50,
   "metadata": {},
   "outputs": [
    {
     "data": {
      "text/plain": [
       "<tf.Tensor 'random_normal_140:0' shape=(1,) dtype=float32>"
      ]
     },
     "execution_count": 50,
     "metadata": {},
     "output_type": "execute_result"
    }
   ],
   "source": [
    "tf.random_normal([1])"
   ]
  },
  {
   "cell_type": "code",
   "execution_count": null,
   "metadata": {
    "collapsed": true
   },
   "outputs": [],
   "source": []
  }
 ],
 "metadata": {
  "kernelspec": {
   "display_name": "Python 3",
   "language": "python",
   "name": "python3"
  },
  "language_info": {
   "codemirror_mode": {
    "name": "ipython",
    "version": 3
   },
   "file_extension": ".py",
   "mimetype": "text/x-python",
   "name": "python",
   "nbconvert_exporter": "python",
   "pygments_lexer": "ipython3",
   "version": "3.6.1"
  }
 },
 "nbformat": 4,
 "nbformat_minor": 2
}
