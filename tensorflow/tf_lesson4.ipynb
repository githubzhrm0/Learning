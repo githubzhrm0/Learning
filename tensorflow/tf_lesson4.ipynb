{
 "cells": [
  {
   "cell_type": "markdown",
   "metadata": {},
   "source": [
    "quadratic cost:\n",
    "$$C=\\frac{1}{2n}\\sum{(y-\\sigma(Wx+b))^2}$$\n",
    "$$\\frac{\\partial{C}}{\\partial w} = (a-y)\\sigma'(z)x$$\n",
    "$$\\frac{\\partial{C}}{\\partial b} = (a-y)\\sigma'(z)$$\n"
   ]
  },
  {
   "cell_type": "code",
   "execution_count": null,
   "metadata": {
    "collapsed": true
   },
   "outputs": [],
   "source": [
    "import tensorflow as tf\n"
   ]
  }
 ],
 "metadata": {
  "anaconda-cloud": {},
  "kernelspec": {
   "display_name": "Python [Anaconda3]",
   "language": "python",
   "name": "Python [Anaconda3]"
  },
  "language_info": {
   "codemirror_mode": {
    "name": "ipython",
    "version": 3
   },
   "file_extension": ".py",
   "mimetype": "text/x-python",
   "name": "python",
   "nbconvert_exporter": "python",
   "pygments_lexer": "ipython3",
   "version": "3.5.2"
  }
 },
 "nbformat": 4,
 "nbformat_minor": 2
}
